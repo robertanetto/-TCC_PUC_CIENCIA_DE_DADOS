{
 "cells": [
  {
   "cell_type": "markdown",
   "id": "0e8d5900",
   "metadata": {},
   "source": [
    "# PUC Minas – Pontificia Universidade Católica de Minas Gerais\n",
    "## Pós-Graduação em Ciência de Dados e Big Data\n",
    "### TRABALHO DE CONCLUSÃO DE CURSO\n",
    "#### **CARACTERIZAÇÃO E PREDIÇÃO COM TÉCNICAS DE *MACHINE LEARNING* DA MORTALIDADE INFANTIL NO ESTADO DO RIO DE JANEIRO**\n",
    "\n",
    "* **Aluna: Roberta Gomes de Souza Netto**\n",
    "* **Matrícula: 1145666**\n",
    "------"
   ]
  },
  {
   "cell_type": "markdown",
   "id": "b351b9df",
   "metadata": {},
   "source": [
    "## 2. Coleta de Dados\n",
    "### 2.1 Extração dos Dados e Geração dos Arquivos .csv"
   ]
  },
  {
   "cell_type": "markdown",
   "id": "8c7b5dbc",
   "metadata": {},
   "source": [
    "Foram utilizados 3 data sets:\n",
    "\n",
    "- Registros de óbitos: **Fonte:** *https://basedosdados.org/dataset/br-ms-sim?bdm_table=microdados*\n",
    "- Registros de nascidos vivos: **Fonte:** *https://basedosdados.org/dataset/br-ms-sinasc?bdm_table=microdados*\n",
    "- CID-10 (Classificação Estatística Internacional de Doenças e Problemas Relacionados com a Saúde): **Fonte:** *https://basedosdados.org/dataset/br-bd-diretorios-brasil?bdm_table=cid_10*\n",
    "\n",
    "***Extração realizada em 23 de março 2023.***  "
   ]
  },
  {
   "cell_type": "code",
   "execution_count": 1,
   "id": "7d8a0d29",
   "metadata": {},
   "outputs": [
    {
     "name": "stdout",
     "output_type": "stream",
     "text": [
      "Requirement already satisfied: basedosdados in c:\\users\\rgsnetto\\anaconda\\lib\\site-packages (1.6.10)\n",
      "Requirement already satisfied: importlib-metadata<5.0.0,>=4.11.3 in c:\\users\\rgsnetto\\anaconda\\lib\\site-packages (from basedosdados) (4.11.3)\n",
      "Requirement already satisfied: tomlkit==0.7.0 in c:\\users\\rgsnetto\\anaconda\\lib\\site-packages (from basedosdados) (0.7.0)\n",
      "Requirement already satisfied: google-cloud-bigquery-storage==1.1.0 in c:\\users\\rgsnetto\\anaconda\\lib\\site-packages (from basedosdados) (1.1.0)\n",
      "Requirement already satisfied: google-cloud-bigquery==2.30.1 in c:\\users\\rgsnetto\\anaconda\\lib\\site-packages (from basedosdados) (2.30.1)\n",
      "Requirement already satisfied: pyarrow==6.0.0 in c:\\users\\rgsnetto\\anaconda\\lib\\site-packages (from basedosdados) (6.0.0)\n",
      "Requirement already satisfied: toml<0.11.0,>=0.10.2 in c:\\users\\rgsnetto\\anaconda\\lib\\site-packages (from basedosdados) (0.10.2)\n",
      "Requirement already satisfied: google-cloud-storage==1.42.3 in c:\\users\\rgsnetto\\anaconda\\lib\\site-packages (from basedosdados) (1.42.3)\n",
      "Requirement already satisfied: pandas<2.0.0,>=1.3.5 in c:\\users\\rgsnetto\\anaconda\\lib\\site-packages (from basedosdados) (1.4.4)\n",
      "Requirement already satisfied: pandas-gbq<0.18.0,>=0.17.4 in c:\\users\\rgsnetto\\anaconda\\lib\\site-packages (from basedosdados) (0.17.9)\n",
      "Requirement already satisfied: ruamel.yaml==0.17.10 in c:\\users\\rgsnetto\\anaconda\\lib\\site-packages (from basedosdados) (0.17.10)\n",
      "Requirement already satisfied: pandavro<2.0.0,>=1.6.0 in c:\\users\\rgsnetto\\anaconda\\lib\\site-packages (from basedosdados) (1.7.1)\n",
      "Requirement already satisfied: click==8.0.3 in c:\\users\\rgsnetto\\anaconda\\lib\\site-packages (from basedosdados) (8.0.3)\n",
      "Requirement already satisfied: tqdm==4.50.2 in c:\\users\\rgsnetto\\anaconda\\lib\\site-packages (from basedosdados) (4.50.2)\n",
      "Requirement already satisfied: ckanapi==4.6 in c:\\users\\rgsnetto\\anaconda\\lib\\site-packages (from basedosdados) (4.6)\n",
      "Requirement already satisfied: Jinja2==3.0.3 in c:\\users\\rgsnetto\\anaconda\\lib\\site-packages (from basedosdados) (3.0.3)\n",
      "Requirement already satisfied: loguru<0.7.0,>=0.6.0 in c:\\users\\rgsnetto\\anaconda\\lib\\site-packages (from basedosdados) (0.6.0)\n",
      "Requirement already satisfied: shapely<2.0.0,>=1.6.0 in c:\\users\\rgsnetto\\anaconda\\lib\\site-packages (from basedosdados) (1.8.5.post1)\n",
      "Requirement already satisfied: pyaml==20.4.0 in c:\\users\\rgsnetto\\anaconda\\lib\\site-packages (from basedosdados) (20.4.0)\n",
      "Requirement already satisfied: setuptools in c:\\users\\rgsnetto\\anaconda\\lib\\site-packages (from ckanapi==4.6->basedosdados) (63.4.1)\n",
      "Requirement already satisfied: docopt in c:\\users\\rgsnetto\\anaconda\\lib\\site-packages (from ckanapi==4.6->basedosdados) (0.6.2)\n",
      "Requirement already satisfied: python-slugify>=1.0 in c:\\users\\rgsnetto\\anaconda\\lib\\site-packages (from ckanapi==4.6->basedosdados) (5.0.2)\n",
      "Requirement already satisfied: six<2.0,>=1.9 in c:\\users\\rgsnetto\\anaconda\\lib\\site-packages (from ckanapi==4.6->basedosdados) (1.16.0)\n",
      "Requirement already satisfied: requests in c:\\users\\rgsnetto\\anaconda\\lib\\site-packages (from ckanapi==4.6->basedosdados) (2.28.1)\n",
      "Requirement already satisfied: colorama in c:\\users\\rgsnetto\\anaconda\\lib\\site-packages (from click==8.0.3->basedosdados) (0.4.5)\n",
      "Requirement already satisfied: packaging>=14.3 in c:\\users\\rgsnetto\\anaconda\\lib\\site-packages (from google-cloud-bigquery==2.30.1->basedosdados) (21.3)\n",
      "Requirement already satisfied: proto-plus>=1.10.0 in c:\\users\\rgsnetto\\anaconda\\lib\\site-packages (from google-cloud-bigquery==2.30.1->basedosdados) (1.22.2)\n",
      "Requirement already satisfied: grpcio<2.0dev,>=1.38.1 in c:\\users\\rgsnetto\\anaconda\\lib\\site-packages (from google-cloud-bigquery==2.30.1->basedosdados) (1.51.3)\n",
      "Requirement already satisfied: google-resumable-media<3.0dev,>=0.6.0 in c:\\users\\rgsnetto\\anaconda\\lib\\site-packages (from google-cloud-bigquery==2.30.1->basedosdados) (2.4.1)\n",
      "Requirement already satisfied: python-dateutil<3.0dev,>=2.7.2 in c:\\users\\rgsnetto\\anaconda\\lib\\site-packages (from google-cloud-bigquery==2.30.1->basedosdados) (2.8.2)\n",
      "Requirement already satisfied: google-api-core[grpc]<3.0.0dev,>=1.29.0 in c:\\users\\rgsnetto\\anaconda\\lib\\site-packages (from google-cloud-bigquery==2.30.1->basedosdados) (1.34.0)\n",
      "Requirement already satisfied: google-cloud-core<3.0.0dev,>=1.4.1 in c:\\users\\rgsnetto\\anaconda\\lib\\site-packages (from google-cloud-bigquery==2.30.1->basedosdados) (2.3.2)\n",
      "Requirement already satisfied: protobuf>=3.12.0 in c:\\users\\rgsnetto\\anaconda\\lib\\site-packages (from google-cloud-bigquery==2.30.1->basedosdados) (3.20.3)\n",
      "Requirement already satisfied: google-auth<3.0dev,>=1.25.0 in c:\\users\\rgsnetto\\anaconda\\lib\\site-packages (from google-cloud-storage==1.42.3->basedosdados) (2.16.2)\n",
      "Requirement already satisfied: MarkupSafe>=2.0 in c:\\users\\rgsnetto\\anaconda\\lib\\site-packages (from Jinja2==3.0.3->basedosdados) (2.0.1)\n",
      "Requirement already satisfied: PyYAML in c:\\users\\rgsnetto\\anaconda\\lib\\site-packages (from pyaml==20.4.0->basedosdados) (6.0)\n",
      "Requirement already satisfied: numpy>=1.16.6 in c:\\users\\rgsnetto\\anaconda\\lib\\site-packages (from pyarrow==6.0.0->basedosdados) (1.21.5)\n",
      "Requirement already satisfied: ruamel.yaml.clib>=0.1.2 in c:\\users\\rgsnetto\\anaconda\\lib\\site-packages (from ruamel.yaml==0.17.10->basedosdados) (0.2.6)\n",
      "Requirement already satisfied: zipp>=0.5 in c:\\users\\rgsnetto\\anaconda\\lib\\site-packages (from importlib-metadata<5.0.0,>=4.11.3->basedosdados) (3.8.0)\n",
      "Requirement already satisfied: win32-setctime>=1.0.0 in c:\\users\\rgsnetto\\anaconda\\lib\\site-packages (from loguru<0.7.0,>=0.6.0->basedosdados) (1.1.0)\n",
      "Requirement already satisfied: pytz>=2020.1 in c:\\users\\rgsnetto\\anaconda\\lib\\site-packages (from pandas<2.0.0,>=1.3.5->basedosdados) (2022.1)\n",
      "Requirement already satisfied: db-dtypes<2.0.0,>=0.3.1 in c:\\users\\rgsnetto\\anaconda\\lib\\site-packages (from pandas-gbq<0.18.0,>=0.17.4->basedosdados) (1.0.5)\n",
      "Requirement already satisfied: pydata-google-auth in c:\\users\\rgsnetto\\anaconda\\lib\\site-packages (from pandas-gbq<0.18.0,>=0.17.4->basedosdados) (1.7.0)\n",
      "Requirement already satisfied: google-auth-oauthlib>=0.0.1 in c:\\users\\rgsnetto\\anaconda\\lib\\site-packages (from pandas-gbq<0.18.0,>=0.17.4->basedosdados) (1.0.0)\n",
      "Requirement already satisfied: fastavro==1.5.1 in c:\\users\\rgsnetto\\anaconda\\lib\\site-packages (from pandavro<2.0.0,>=1.6.0->basedosdados) (1.5.1)\n",
      "Requirement already satisfied: googleapis-common-protos<2.0dev,>=1.56.2 in c:\\users\\rgsnetto\\anaconda\\lib\\site-packages (from google-api-core[grpc]<3.0.0dev,>=1.29.0->google-cloud-bigquery==2.30.1->basedosdados) (1.58.0)\n",
      "Requirement already satisfied: grpcio-status<2.0dev,>=1.33.2 in c:\\users\\rgsnetto\\anaconda\\lib\\site-packages (from google-api-core[grpc]<3.0.0dev,>=1.29.0->google-cloud-bigquery==2.30.1->basedosdados) (1.48.2)\n",
      "Requirement already satisfied: rsa<5,>=3.1.4 in c:\\users\\rgsnetto\\anaconda\\lib\\site-packages (from google-auth<3.0dev,>=1.25.0->google-cloud-storage==1.42.3->basedosdados) (4.9)\n",
      "Requirement already satisfied: cachetools<6.0,>=2.0.0 in c:\\users\\rgsnetto\\anaconda\\lib\\site-packages (from google-auth<3.0dev,>=1.25.0->google-cloud-storage==1.42.3->basedosdados) (5.3.0)\n",
      "Requirement already satisfied: pyasn1-modules>=0.2.1 in c:\\users\\rgsnetto\\anaconda\\lib\\site-packages (from google-auth<3.0dev,>=1.25.0->google-cloud-storage==1.42.3->basedosdados) (0.2.8)\n",
      "Requirement already satisfied: requests-oauthlib>=0.7.0 in c:\\users\\rgsnetto\\anaconda\\lib\\site-packages (from google-auth-oauthlib>=0.0.1->pandas-gbq<0.18.0,>=0.17.4->basedosdados) (1.3.1)\n",
      "Requirement already satisfied: google-crc32c<2.0dev,>=1.0 in c:\\users\\rgsnetto\\anaconda\\lib\\site-packages (from google-resumable-media<3.0dev,>=0.6.0->google-cloud-bigquery==2.30.1->basedosdados) (1.5.0)\n",
      "Requirement already satisfied: pyparsing!=3.0.5,>=2.0.2 in c:\\users\\rgsnetto\\anaconda\\lib\\site-packages (from packaging>=14.3->google-cloud-bigquery==2.30.1->basedosdados) (3.0.9)\n",
      "Requirement already satisfied: text-unidecode>=1.3 in c:\\users\\rgsnetto\\anaconda\\lib\\site-packages (from python-slugify>=1.0->ckanapi==4.6->basedosdados) (1.3)\n",
      "Requirement already satisfied: certifi>=2017.4.17 in c:\\users\\rgsnetto\\anaconda\\lib\\site-packages (from requests->ckanapi==4.6->basedosdados) (2022.9.14)\n",
      "Requirement already satisfied: charset-normalizer<3,>=2 in c:\\users\\rgsnetto\\anaconda\\lib\\site-packages (from requests->ckanapi==4.6->basedosdados) (2.0.4)\n",
      "Requirement already satisfied: urllib3<1.27,>=1.21.1 in c:\\users\\rgsnetto\\anaconda\\lib\\site-packages (from requests->ckanapi==4.6->basedosdados) (1.26.11)\n",
      "Requirement already satisfied: idna<4,>=2.5 in c:\\users\\rgsnetto\\anaconda\\lib\\site-packages (from requests->ckanapi==4.6->basedosdados) (3.3)\n",
      "Requirement already satisfied: pyasn1<0.5.0,>=0.4.6 in c:\\users\\rgsnetto\\anaconda\\lib\\site-packages (from pyasn1-modules>=0.2.1->google-auth<3.0dev,>=1.25.0->google-cloud-storage==1.42.3->basedosdados) (0.4.8)\n",
      "Requirement already satisfied: oauthlib>=3.0.0 in c:\\users\\rgsnetto\\anaconda\\lib\\site-packages (from requests-oauthlib>=0.7.0->google-auth-oauthlib>=0.0.1->pandas-gbq<0.18.0,>=0.17.4->basedosdados) (3.2.2)\n"
     ]
    }
   ],
   "source": [
    "!pip install basedosdados"
   ]
  },
  {
   "cell_type": "code",
   "execution_count": 2,
   "id": "a1c7cb1f",
   "metadata": {},
   "outputs": [
    {
     "name": "stderr",
     "output_type": "stream",
     "text": [
      "Downloading: 100%|██████████| 735289/735289 [10:12<00:00, 1200.21rows/s]\n"
     ]
    }
   ],
   "source": [
    "import basedosdados as bd\n",
    "\n",
    "df_sim = bd.read_sql(\n",
    "'''\n",
    "SELECT * FROM `basedosdados.br_ms_sim.microdados` \n",
    "where ano >= 2016 \n",
    "and sigla_uf = 'RJ'\n",
    "''',\n",
    "billing_project_id=\"projetosim-380401\")"
   ]
  },
  {
   "cell_type": "code",
   "execution_count": 3,
   "id": "1da96e7d",
   "metadata": {},
   "outputs": [
    {
     "name": "stderr",
     "output_type": "stream",
     "text": [
      "Downloading: 100%|██████████| 1069911/1069911 [10:38<00:00, 1676.31rows/s]\n"
     ]
    }
   ],
   "source": [
    "df_sinasc = bd.read_sql(\n",
    "'''\n",
    "SELECT * FROM `basedosdados.br_ms_sinasc.microdados` \n",
    "where ano >= 2016\n",
    "and sigla_uf = 'RJ'\n",
    "''',\n",
    "billing_project_id=\"projetosim-380401\")"
   ]
  },
  {
   "cell_type": "code",
   "execution_count": 4,
   "id": "d6000ed7",
   "metadata": {},
   "outputs": [
    {
     "name": "stderr",
     "output_type": "stream",
     "text": [
      "Downloading: 100%|██████████| 12451/12451 [00:01<00:00, 6835.55rows/s]\n"
     ]
    }
   ],
   "source": [
    "df_cid10 = bd.read_table(dataset_id='br_bd_diretorios_brasil',\n",
    "table_id='cid_10', \n",
    "billing_project_id=\"projetosim-380401\")"
   ]
  },
  {
   "cell_type": "code",
   "execution_count": 5,
   "id": "09d37cea",
   "metadata": {},
   "outputs": [],
   "source": [
    "# Gerando arquivos csv\n",
    "df_sim.to_csv('sim_rj_2016-2020.csv')\n",
    "df_sinasc.to_csv('sinasc_rj_2016-2020.csv')\n",
    "df_cid10.to_csv('cid10_original.csv')"
   ]
  },
  {
   "cell_type": "code",
   "execution_count": null,
   "id": "b2d52b4a",
   "metadata": {},
   "outputs": [],
   "source": []
  }
 ],
 "metadata": {
  "kernelspec": {
   "display_name": "Python 3 (ipykernel)",
   "language": "python",
   "name": "python3"
  },
  "language_info": {
   "codemirror_mode": {
    "name": "ipython",
    "version": 3
   },
   "file_extension": ".py",
   "mimetype": "text/x-python",
   "name": "python",
   "nbconvert_exporter": "python",
   "pygments_lexer": "ipython3",
   "version": "3.9.13"
  }
 },
 "nbformat": 4,
 "nbformat_minor": 5
}
